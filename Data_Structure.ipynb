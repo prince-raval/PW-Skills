{
 "cells": [
  {
   "cell_type": "markdown",
   "id": "d19e0542-ae71-457d-8b34-45320378eecc",
   "metadata": {},
   "source": [
    "Q1.) What are data structures, and why are they important3\n",
    "Ans:- Data structure is a specilised formets for organising, storing and accessing of collection of data. They provide efficient way to manage \n",
    "information based on it's charecterstics and intended use.\n",
    "......Importance Of Data Structure......\n",
    ">>> Efficiency: Good data structures improve performance in both time and space.\n",
    ">>> Scalability: They help handle large datasets without significant slowdown.\n",
    ">>> Reusability: Many algorithms rely on standard data structures.\n",
    ">>> Real-World Modeling: Represent relationships (e.g., family trees, maps).\n",
    ">>> Problem Solving: Essential in coding interviews and competitive programming."
   ]
  },
  {
   "cell_type": "raw",
   "id": "24689e3c-cf4a-4197-9a98-7ea6a88574ee",
   "metadata": {},
   "source": [
    "Q.2) Explain the difference between mutable and immutable data types with examples?\n",
    "Ans:- Mutable Data Types:-\n",
    "Definition: Can be modified after creation.\n",
    "Examples: list, dict, set (in Python)"
   ]
  },
  {
   "cell_type": "code",
   "execution_count": 2,
   "id": "a65d2fec-ca0f-459d-b80c-b20461d7759f",
   "metadata": {},
   "outputs": [
    {
     "name": "stdout",
     "output_type": "stream",
     "text": [
      "[1, 2, 3, 4]\n"
     ]
    }
   ],
   "source": [
    " #Example:\n",
    "my_list = [1, 2, 3]\n",
    "my_list.append(4)\n",
    "print(my_list)  # Output: [1, 2, 3, 4]"
   ]
  },
  {
   "cell_type": "raw",
   "id": "481b93f3-a84e-4b4a-8f72-338540349398",
   "metadata": {},
   "source": [
    "Immutable Data Types\n",
    "Definition: Cannot be changed after creation. Any modification results in a new object.\n",
    "Examples: int, float, str, tuple, bool"
   ]
  },
  {
   "cell_type": "code",
   "execution_count": 3,
   "id": "f32fb828-5ff8-4c83-8e51-fdb95afb928b",
   "metadata": {},
   "outputs": [
    {
     "name": "stdout",
     "output_type": "stream",
     "text": [
      "Alice Smith\n"
     ]
    }
   ],
   "source": [
    "#Example:\n",
    "name = \"Alice\"\n",
    "name = name + \" Smith\"\n",
    "print(name)  # Output: Alice Smith\n"
   ]
  },
  {
   "cell_type": "markdown",
   "id": "656c6ee5-545e-4ad2-bc59-56cd13591cc5",
   "metadata": {},
   "source": [
    "Q.3) What are the main differences between lists and tuples in Python?\n",
    "Ans:- n Python, lists and tuples are both used to store collections of items, but they have key differences in how they behave and are used.\n",
    "\n",
    "The most important difference is that lists are mutable, meaning you can change their content after they’re created. You can add, remove, or modify elements in a list. For example, you can use methods like .append(), .remove(), or .sort() on a list. Lists are defined using square brackets, like [1, 2, 3].\n",
    "\n",
    "In contrast, tuples are immutable, which means once a tuple is created, its content cannot be changed. You cannot add, remove, or modify items in a tuple. Tuples are defined using parentheses, like (1, 2, 3). Because of their immutability, tuples are generally faster and more memory-efficient than lists. They are also safer to use when you don’t want the data to be altered, such as coordinates or fixed configuration settings.\n",
    "\n",
    "Additionally, tuples can be used as keys in dictionaries because they are immutable, while lists cannot."
   ]
  },
  {
   "cell_type": "markdown",
   "id": "68437efe-bfff-4dcf-ae57-96b007be65fe",
   "metadata": {},
   "source": [
    "Q.4) Describe how dictionaries store data?\n",
    "Ans:- Dictionaries in Python store data as key-value pairs, allowing you to associate a unique key with a specific value. This structure is useful for quickly retrieving values based on their keys.\n",
    "\n",
    "When you create a key-value pair like {\"name\": \"Alice\"}, \n",
    "Python:Calculates a hash for the key (\"name\").\n",
    "Uses that hash to find an index in an internal array.\n",
    "Stores the key and its associated value at that index.\n",
    "Because of this hashing mechanism, dictionaries offer fast lookup, insertion, and deletion — typically in constant time:"
   ]
  },
  {
   "cell_type": "code",
   "execution_count": 4,
   "id": "4d36e3b1-20e6-4a4a-8bc2-a2ea1738a042",
   "metadata": {},
   "outputs": [
    {
     "name": "stdout",
     "output_type": "stream",
     "text": [
      "Alice\n"
     ]
    }
   ],
   "source": [
    "#For Example\n",
    "student = {\n",
    "    \"name\": \"Alice\",\n",
    "    \"age\": 20,\n",
    "    \"grade\": \"A\"\n",
    "}\n",
    "\n",
    "print(student[\"name\"])  # Output: Alice\n"
   ]
  },
  {
   "cell_type": "markdown",
   "id": "1da9b94b-241d-4db3-8bb9-8d99cd7f2e48",
   "metadata": {},
   "source": [
    "Q.5) Why might you use a set instead of a list in Python?\n",
    "Ans:- In Python, you might choose to use a set instead of a list when you want to store unique items and don’t care about the order of the elements.\n",
    "\n",
    "The biggest reason to use a set is that it automatically removes duplicates. For example, if you have a list with repeated values and you want to get only the unique ones, converting it to a set is an easy way to do that.\n",
    "\n",
    "Another reason is speed. Sets are faster than lists when it comes to checking whether an item exists. If you’re often asking “Is this item in the collection?”, a set will usually give you the answer more quickly than a list.\n",
    "Also, sets allow you to do useful operations like finding the difference between two sets, or finding the common items, just like in math.\n",
    "However, sets do have some limitations: they don’t keep things in order, and you can’t access items by position like you can with a list.\n",
    "\n",
    "So in short, use a set when:\n",
    "You want to avoid duplicates.\n",
    "You want faster checking if something is in the collection.\n",
    "You need to do set operations like finding shared or different items.\n",
    "Use a list if you care about the order of items, want to keep duplicates, or need to access items by index (like the first or last item)."
   ]
  },
  {
   "cell_type": "markdown",
   "id": "78748cd4-818b-403a-a0f8-b3864a3aba06",
   "metadata": {},
   "source": [
    "Q.6) What is a string in Python, and how is it different from a list?\n",
    "Ans:- In Python, a string is a sequence of characters enclosed in single quotes ('...'), double quotes (\"...\"), or triple quotes ('''...''' or \"\"\"...\"\"\"). It is used to represent text.\n",
    "Example:- \n",
    "my_string=\"Hello\"\n",
    "\n",
    "Difference Between a String and a List in Python:\n",
    "\n",
    "Data Type:\n",
    ">>> String: Contains only characters.\n",
    ">>> List: Can contain elements of any data type (e.g., integers, strings, floats, etc.).\n",
    "\n",
    "Syntax:\n",
    ">>> String: Enclosed in quotes.\n",
    ">>> List: Enclosed in square brackets [ ].\n",
    "\n",
    "Mutability:\n",
    ">>> String: Immutable (you cannot change individual characters after it's created).\n",
    ">>> List: Mutable (you can change, add, or remove elements).\n",
    "\n",
    "Element Access:\n",
    ">>> Both strings and lists support indexing and slicing, e.g., my_string[0] or my_list[1:3].\n",
    "\n",
    "Use Case:\n",
    ">>> String: Used for handling and processing text.\n",
    ">>> List: Used for storing collections of items."
   ]
  },
  {
   "cell_type": "markdown",
   "id": "377495e6-36a9-404d-99ba-f91788725793",
   "metadata": {},
   "source": [
    "Q.7) How do tuples ensure data integrity in Python?\n",
    "Ans:- Tuples help maintain data integrity mainly because they are immutable, meaning their contents cannot be changed once created.\n",
    "\n",
    "This immutability provides several benefits:\n",
    "Prevents Accidental Changes:\n",
    ">>>Since tuples cannot be modified (no item can be added, removed, or altered), they protect data from being unintentionally changed during program execution.\n",
    "\n",
    "Reliable for Fixed Data:\n",
    ">>>Tuples are often used to store constant or fixed values, such as coordinates, configuration settings, or days of the week. Using a tuple signals that this data should not be changed, which helps preserve its integrity.\n",
    "\n",
    "Safe for Use as Dictionary Keys:\n",
    ">>>Tuples can be used as keys in dictionaries or elements in sets, but only if all elements inside them are also immutable. This is possible because their contents won’t change, ensuring consistent behavior in hash-based collections.\n",
    "\n",
    "Reduces Bugs:\n",
    ">>>By preventing changes to the data, tuples reduce the risk of bugs caused by accidental or unauthorized modifications."
   ]
  },
  {
   "cell_type": "markdown",
   "id": "6b5a0edd-229b-4e02-9287-0ca37072d3e9",
   "metadata": {},
   "source": [
    "Q.8) What is a hash table, and how does it relate to dictionaries in Python?\n",
    "Ans:- A hash table is a data structure that stores key-value pairs. It uses a hash function to compute an index (also called a hash code) into an array of buckets or slots, from which the desired value can be found quickly.\n",
    ">>> Hash Function: Converts a key (like a string or number) into an integer (the index).\n",
    ">>> Bucket/Slot: The position in memory where the value is stored.\n",
    "\n",
    "This allows for very fast data access, often in constant time (O(1)), for operations like lookup, insertion, and deletion.\n",
    "\n",
    "How Does It Relate to Dictionaries in Python ?\n",
    "In Python , the built-in dict (dictionary) type is implemented using a hash table under the hood.\n",
    "\n",
    "Key Points:\n",
    "1. Keys in a Dictionary Are Hashed:\n",
    ">>> When you do my_dict['apple'], Python internally uses a hash function to convert 'apple' into a number (hash code) and finds the value associated with that key.\n",
    "\n",
    "2. Fast Access:\n",
    ">>> Because of hashing, dictionaries allow fast lookups, insertions, and deletions — usually in constant time, regardless of the size of the dictionary.\n",
    "\n",
    "3. Keys Must Be Hashable:\n",
    ">>> Only immutable types like strings, numbers, and tuples (with only hashable elements) can be used as dictionary keys.\n",
    ">>>This is because the hash must remain stable over time.\n",
    "\n",
    "4. Collisions Are Handled Internally:\n",
    ">>> If two keys hash to the same index, Python uses a method called open addressing to resolve the conflict and find an empty slot."
   ]
  },
  {
   "cell_type": "markdown",
   "id": "b1905cf1-8eb4-4f82-b502-c7c6ff42e242",
   "metadata": {},
   "source": [
    "Q.9)  Can lists contain different data types in Python?\n",
    "Ans:- Yes, lists can contain different data types in Python.\n",
    "Python lists are heterogeneous, meaning they can store a mix of data types within the same list. This includes integers, strings, floats, booleans, other lists, dictionaries, objects, and more.\n",
    "\n",
    "Example:- \n",
    "my_list = [42, \"hello\", 3.14, True, [1, 2], {\"key\": \"value\"}]"
   ]
  },
  {
   "cell_type": "markdown",
   "id": "d67a7b36-e6f8-469c-98e4-9d5ceb389793",
   "metadata": {},
   "source": [
    "Q.10)  Explain why strings are immutable in Python?\n",
    "Ans:- In Python, strings are immutable, meaning once a string is created, it cannot be changed — you can't modify, add, or delete individual characters.\n",
    "\n",
    "Reason:-\n",
    "1. Efficiency and Memory Optimization:\n",
    ">>> Since strings are used frequently, especially as keys in dictionaries, making them immutable allows Python to reuse and share memory.\n",
    ">>> Immutable objects can be safely cached or interned, which improves performance.\n",
    "\n",
    "2. Hashability:\n",
    ">>> Only immutable objects can be used as keys in dictionaries and elements in sets, because their hash value must not change.\n",
    ">>> Strings are hashable because they are immutable.\n",
    "\n",
    "3. Safety and Predictability:\n",
    ">>> If strings were mutable, changing one string could unintentionally affect others that refer to the same data.\n",
    ">>> Immutability makes code safer and more predictable, especially when passing strings to functions\n",
    "\n",
    "4. Simpler Implementation:\n",
    ">>> Internally, immutable objects are simpler to implement and manage, especially in multithreaded environments where shared mutable data can lead to bugs."
   ]
  },
  {
   "cell_type": "markdown",
   "id": "281cfbd2-a545-4f4a-8e81-d6c79cc71bec",
   "metadata": {},
   "source": [
    "Q.11) What advantages do dictionaries offer over lists for certain tasks?\n",
    "Ans:- Dictionaries and lists are both core data structures in Python, but dictionaries offer several advantages over lists when dealing with key-value relationships and fast lookups.\n",
    "\n",
    "Key Advantages of Dictionaries Over Lists:\n",
    "1. Fast Lookups (O(1) Time)\n",
    ">>> Dictionaries use hash tables, so accessing a value by key is much faster than searching through a list.\n",
    ">>> Use case: When you need to look up values frequently using a known identifier.\n",
    "\n",
    "2. Key-Value Mapping\n",
    ">>> Dictionaries allow you to associate meaningful keys with values (like names, IDs), making your data more readable and logical.\n",
    ">>> Lists only use numeric indices, which can be less descriptive.\n",
    "\n",
    "3.) Avoiding Linear Searches\n",
    ">>> Finding an item in a list requires scanning every element (O(n) time).\n",
    ">>> In a dictionary, you access data directly using a key.\n",
    "\n",
    "4. Dynamic and Flexible Data Storage\n",
    ">>> Dictionaries can easily store complex, structured data using nested dictionaries or mixed data types.\n",
    ">>> They are ideal for representing objects or records.\n",
    "\n",
    "5. No Need to Remember Indexes\n",
    ">>>With dictionaries, you access data by name (key), not position, which improves code readability and reduces indexing errors."
   ]
  },
  {
   "cell_type": "markdown",
   "id": "1d086d78-3cdd-428f-8d4c-0ac7a5f6d661",
   "metadata": {},
   "source": [
    "Q.12) Describe a scenario where using a tuple would be preferable over a list?\n",
    "Ans:-  storing configuration settings or fixed options in your program that should not change during execution.\n",
    "Example:\n",
    "Imagine you're defining the possible directions a robot can face: (\"North\", \"East\", \"South\", \"West\").\n",
    ">>> These values are constant and should never be modified.\n",
    ">>> Using a tuple signals that the data is fixed and protected from accidental changes.\n",
    "\n",
    "Reason:-\n",
    "Using a tuple emphasizes immutability, which helps protect against bugs in your code where someone might accidentally try to add or remove directions."
   ]
  },
  {
   "cell_type": "markdown",
   "id": "876ad221-56a7-4cfd-85b9-f60f788d447b",
   "metadata": {},
   "source": [
    "Q.13)  How do sets handle duplicate values in Python?\n",
    "Ans:- sets automatically eliminate duplicate values. When elements are added to a set, only unique items are stored—any repeated values are ignored. This means that a set can never contain multiple occurrences of the same value.\n",
    "\n",
    "For example, if you try to create a set with repeated values like {1, 2, 2, 3}, Python will store it internally as {1, 2, 3}. This behavior makes sets useful for tasks such as removing duplicates from a list or checking membership without caring about order or repetition."
   ]
  },
  {
   "cell_type": "markdown",
   "id": "52ef8abe-b088-49ab-aaa4-2673608b7081",
   "metadata": {},
   "source": [
    "Q.14) How does the “in” keyword work differently for lists and dictionaries?\n",
    "Ans:-\"in\" keyword is used to check if an element exists within a container, but its behavior varies depending on the data structure.\n",
    "\n",
    "For lists, the in keyword checks whether a specific value is present in the list. Python goes through each element in the list one by one until it finds a match. This is called a linear search, and it can be slower for large lists.\n",
    "\n",
    "For dictionaries, the in keyword checks whether a specific key exists in the dictionary, not the value. Python uses a hash table for dictionaries, so checking for a key is much faster—typically constant time.\n",
    "\n",
    "In summary:\n",
    ">>> In a list, in checks for values.\n",
    ">>> In a dictionary, in checks for keys only, not values."
   ]
  },
  {
   "cell_type": "markdown",
   "id": "96b8a801-13db-4579-815c-90ec0a8d5562",
   "metadata": {},
   "source": [
    "Q.15) Can you modify the elements of a tuple? Explain why or why not?\n",
    "Ans:- No, you cannot modify the elements of a tuple in Python because tuples are immutable. This means that once a tuple is created, its elements cannot be changed, added, or removed. Immutability ensures that the data stored in a tuple remains constant throughout the program, which makes tuples useful for storing fixed sets of values, such as coordinates or configuration settings.\n",
    "\n",
    "However, if a tuple contains a mutable object like a list, the contents of that object can be changed, even though the tuple itself cannot be modified. For example, a list inside a tuple can be updated, but you cannot replace the list itself or reassign elements of the tuple."
   ]
  },
  {
   "cell_type": "markdown",
   "id": "bd043204-d055-4a20-bd64-961b264d5c9f",
   "metadata": {},
   "source": [
    "Q.16) What is a nested dictionary, and give an example of its use case?\n",
    "Ans:-A nested dictionary in Python is a dictionary where the values are themselves dictionaries. This allows you to store complex and hierarchical data structures. It's particularly useful when you need to organize related data in a more structured way, with multiple layers of information.\n",
    "\n",
    "Example:\n",
    "Suppose you work in a company and need to manage employee records. Each employee has personal information like name, age, and position, as well as contact information and a list of projects they are working on. You can use a nested dictionary to store this data.\n",
    "\n",
    "In the nested dictionary, the outer dictionary has employee IDs as keys, and each value is another dictionary that contains the employee's details such as name, age, position, contact info (which itself can be another dictionary), and their projects.\n",
    "For example:\n",
    "\n",
    ">>> The outer dictionary stores each employee's ID.\n",
    ">>> The inner dictionaries store details like the employee’s name, age, position, and a nested dictionary for their contact info.\n",
    ">>> Additionally, you can have a list of projects each employee is working on.\n",
    "\n",
    "Benefits of Using a Nested Dictionary:\n",
    ">>> Organized Structure: It lets you organize complex information in a structured, hierarchical way.\n",
    ">>> Easy Access: You can access specific information with multiple keys, such as retrieving an employee's email or their list of projects.\n",
    ">>> Flexibility: You can add or modify details without changing the entire structure."
   ]
  },
  {
   "cell_type": "markdown",
   "id": "641d76c1-f525-42c0-86ac-dfb16f78d2b0",
   "metadata": {},
   "source": [
    "Q.17) Describe the time complexity of accessing elements in a dictionary.\n",
    "Ans:- In Python, the time complexity of accessing elements in a dictionary is generally O(1), meaning it takes constant time regardless of the size of the dictionary. This is because Python dictionaries are implemented using hash tables.\n",
    "\n",
    "Why is it O(1)?\n",
    "Hash Table Lookup: When you access an element in a dictionary by its key, Python uses a hash function to map the key to a specific location (or \"bucket\") in the hash table.\n",
    "\n",
    "If the key is found, the corresponding value is returned quickly, in constant time.\n",
    "\n",
    "Efficient: The lookup time does not depend on the number of elements in the dictionary, making it very efficient for retrieving values.\n",
    "\n",
    "Worst-Case Scenario:\n",
    "While the average-case time complexity for lookups is O(1), the worst-case time complexity can be O(n) in situations where many keys have the same hash (a \"hash collision\"). This can cause a situation where the dictionary must perform a search through a list of colliding keys.\n",
    "\n",
    "However, Python’s hash table implementation handles collisions efficiently (using methods like open addressing or chaining), so in practice, the worst-case scenario rarely occurs, and the time complexity remains close to O(1) for most operations."
   ]
  },
  {
   "cell_type": "markdown",
   "id": "cbd49a69-59aa-494d-8e83-b72d4d1af66d",
   "metadata": {},
   "source": [
    "Q.18)  In what situations are lists preferred over dictionaries?\n",
    "Ans:- Lists are preferred over dictionaries in the following situations:\n",
    ">>> Ordered Data: If the order of elements matters, lists are the better choice. Lists maintain the order of elements as they are added, allowing you to access them in a specific sequence by their index.\n",
    ">>> Access by Index: Lists are ideal when you need to access elements based on their position or index. This makes it easy to retrieve data in a particular order.\n",
    ">>> Homogeneous or Similar Data: Lists are great for storing data that is of the same type (e.g., a list of numbers or strings). They are simpler when you don't need to associate each element with a unique key, as dictionaries do.\n",
    ">>> Simple Iteration and Aggregation: Lists are well-suited for situations where you need to iterate over the elements or perform operations like summing values, averaging, or filtering. This is because lists allow easy looping and straightforward manipulation of the data.\n",
    ">>> When You Don’t Need Unique Keys: If you don’t need to map values to unique keys, lists are simpler and more appropriate. Dictionaries require the use of keys, which adds complexity when you just need a collection of values."
   ]
  },
  {
   "cell_type": "markdown",
   "id": "b078fcbf-327b-4658-8236-af6aa152da13",
   "metadata": {},
   "source": [
    "Q.19) Why are dictionaries considered unordered, and how does that affect data retrieval?\n",
    "Ans:- Dictionaries in Python are considered unordered because the elements (key-value pairs) are stored in a hash table rather than a list-like structure. This means that, while you can store key-value pairs in a dictionary, the order in which those pairs are stored and retrieved is not guaranteed.\n",
    "\n",
    "Key Points About Unordered Nature of Dictionaries:\n",
    "1. Hash Table Implementation:\n",
    ">>> A dictionary in Python uses a hash table to store keys. The keys are hashed into an index, which is used to quickly retrieve the corresponding value.\n",
    ">>> Since this process doesn’t rely on the order in which elements are added, the key-value pairs are not stored in any specific order.\n",
    "\n",
    "2. No Guaranteed Order:\n",
    ">>> Before Python 3.7, dictionaries did not preserve the insertion order. That means the order in which key-value pairs were inserted into the dictionary was not maintained when iterating over it.\n",
    ">>> Starting from Python 3.7, insertion order is preserved (meaning that the order of keys reflects the order in which they were added), but this feature is still not considered as a logical ordering of the elements; rather, it is a performance feature of the underlying implementation.\n",
    "\n",
    "3. Impact on Data Retrieval:\n",
    ">>> Efficient Lookup by Key: The unordered nature of dictionaries does not affect data retrieval when accessing elements by their key. The main benefit of using a dictionary is the constant-time (O(1)) access to elements via the key, regardless of the number of items in the dictionary.\n",
    ">>> No Sequential Access: Since the dictionary does not maintain a specific order, you cannot rely on the sequence in which the items are stored. This affects use cases where the order of data is important, such as when you need to process elements in the order they were added."
   ]
  },
  {
   "cell_type": "markdown",
   "id": "7c3d0049-7f67-4122-81be-ad32faba4685",
   "metadata": {},
   "source": [
    "Q.20)  Explain the difference between a list and a dictionary in terms of data retrieval.\n",
    "Ans:- In Python, lists and dictionaries are both data structures used to store collections of data, but they differ in how they store and retrieve that data.\n",
    "\n",
    "Access Method:\n",
    "List:\n",
    ">>> Lists store elements in a specific order, and you access the data by its index. Each element has a position that starts from 0.\n",
    "\n",
    "Dictionary:\n",
    ">>> Dictionaries store key-value pairs, and you access data by its key. A key in a dictionary is unique and maps directly to a value.\n",
    "\n",
    "Data Organization:\n",
    "List:\n",
    ">>> Lists are an ordered collection of elements. The order in which you insert items is preserved, and you can access elements by their position.\n",
    ">>> Ideal for when the sequence of data is important (e.g., when you want to preserve the order of elements).\n",
    "\n",
    "Dictionary:\n",
    ">>> Dictionaries store data as key-value pairs, where each key is unique, and each key maps to a corresponding value. While dictionaries maintain the insertion order (starting from Python 3.7), they are not primarily designed for order-based access.\n",
    ">>> Ideal for when you need to associate a value with a specific identifier (key).\n",
    "\n",
    "Performance for Searching:\n",
    "List:\n",
    ">>> Searching for an element by its index is very quick (O(1) time). However, if you're searching for a value (without knowing the index), it requires going through the entire list, making it O(n).\n",
    "\n",
    "Dictionary:\n",
    ">>> Searching by key is fast (O(1) time) because of the way dictionaries are stored in hash tables. You can quickly retrieve values associated with a key.\n",
    "\n",
    "Use Cases:\n",
    "List:\n",
    ">>> Use a list when you need ordered data or when you want to access items by their position. For example, if you're dealing with a sequence of numbers, names, or events that follow a certain order.\n",
    "\n",
    "Dictionary:\n",
    ">>> Use a dictionary when you need fast access to values using a unique key. For example, if you're working with a collection of items where each item has a unique identifier (like a name or ID), and you want to look up information based on that identifier."
   ]
  },
  {
   "cell_type": "code",
   "execution_count": null,
   "id": "469c48ff-d2c7-4896-a6a6-c93776f3a521",
   "metadata": {},
   "outputs": [],
   "source": []
  },
  {
   "cell_type": "markdown",
   "id": "9cc27387-e6ea-4a01-8ad6-d43c56b90a5c",
   "metadata": {},
   "source": [
    ">>>>>>>>>>>>>>>>>>>>>>>>Practical<<<<<<<<<<<<<<<<<<<<<<<<<<<<<<<"
   ]
  },
  {
   "cell_type": "code",
   "execution_count": 1,
   "id": "a4f4d800-12a1-4291-ba25-6d1d8b3457bd",
   "metadata": {},
   "outputs": [
    {
     "name": "stdout",
     "output_type": "stream",
     "text": [
      "Prince\n"
     ]
    }
   ],
   "source": [
    "#Q.1) Write a code to create a string with your name and print it?\n",
    "\n",
    "name = \"Prince\"\n",
    "print(name)"
   ]
  },
  {
   "cell_type": "code",
   "execution_count": 2,
   "id": "f6a2a3fb-2cf3-4644-b706-f76e4e9bcb3d",
   "metadata": {},
   "outputs": [
    {
     "name": "stdout",
     "output_type": "stream",
     "text": [
      "11\n"
     ]
    }
   ],
   "source": [
    "#Q.2) Write a code to find the length of the string \"Hello World\"?\n",
    "s = \"Hello World\"\n",
    "print(len(s))"
   ]
  },
  {
   "cell_type": "code",
   "execution_count": 6,
   "id": "3dd89f58-6fb6-47ca-b67c-2749935765f0",
   "metadata": {},
   "outputs": [
    {
     "name": "stdout",
     "output_type": "stream",
     "text": [
      "Pyt\n"
     ]
    }
   ],
   "source": [
    "#Q.3)Write a code to slice the first 3 characters from the string \"Python Programming\"?\n",
    "s = \"Python Programming\"\n",
    "print(s[0:3])"
   ]
  },
  {
   "cell_type": "code",
   "execution_count": 9,
   "id": "bc73facd-0cb1-4f78-ad6f-9ae260488c42",
   "metadata": {},
   "outputs": [
    {
     "name": "stdout",
     "output_type": "stream",
     "text": [
      "HELLO\n"
     ]
    }
   ],
   "source": [
    "#Q.4)Write a code to convert the string \"hello\" to uppercase.\n",
    "sen = \"hello\"\n",
    "sen_uppercase = sen.upper()\n",
    "print(sen_uppercase)"
   ]
  },
  {
   "cell_type": "code",
   "execution_count": 10,
   "id": "6bdc9448-e215-47b0-8514-166895ab75a2",
   "metadata": {},
   "outputs": [
    {
     "name": "stdout",
     "output_type": "stream",
     "text": [
      "I like orange\n"
     ]
    }
   ],
   "source": [
    "#Q.5)Write a code to replace the word \"apple\" with \"orange\" in the string \"I like apple\".\n",
    "sen = \"I like apple\"\n",
    "replace_word = sen.replace(\"apple\",\"orange\")\n",
    "print(replace_word)"
   ]
  },
  {
   "cell_type": "code",
   "execution_count": 15,
   "id": "ed919865-2d00-434d-973d-67844a25d871",
   "metadata": {},
   "outputs": [
    {
     "name": "stdout",
     "output_type": "stream",
     "text": [
      "[1, 2, 3, 4, 5]\n"
     ]
    }
   ],
   "source": [
    "#Q.6) Write a code to create a list with numbers 1 to 5 and print it.\n",
    "numbers = list(range(1, 6))\n",
    "print(numbers)\n"
   ]
  },
  {
   "cell_type": "code",
   "execution_count": 20,
   "id": "9344c53c-3e4d-4cb4-9bc1-96f5e539d987",
   "metadata": {},
   "outputs": [
    {
     "name": "stdout",
     "output_type": "stream",
     "text": [
      "[1, 2, 3, 4, 10]\n"
     ]
    }
   ],
   "source": [
    "#Q.7) Write a code to append the number 10 to the list [1, 2, 3, 4].\n",
    "lis = [1,2,3,4]\n",
    "lis.append(10)\n",
    "print(lis)"
   ]
  },
  {
   "cell_type": "code",
   "execution_count": 27,
   "id": "5b01ae31-73e0-4099-85ca-6d4ca59ba329",
   "metadata": {},
   "outputs": [
    {
     "name": "stdout",
     "output_type": "stream",
     "text": [
      "[1, 2, 4, 5]\n"
     ]
    }
   ],
   "source": [
    "#Q.8) Write a code to remove the number 3 from the list [1, 2, 3, 4, 5].\n",
    "lis = [1, 2, 3, 4, 5]\n",
    "lis.remove(3)\n",
    "print(lis)"
   ]
  },
  {
   "cell_type": "code",
   "execution_count": 26,
   "id": "dfebf6d6-074a-4f1b-8fe2-b471dbd2a0dd",
   "metadata": {},
   "outputs": [
    {
     "name": "stdout",
     "output_type": "stream",
     "text": [
      "b\n"
     ]
    }
   ],
   "source": [
    "#Q.9) Write a code to access the second element in the list ['a', 'b', 'c', 'd'].\n",
    "lis = ['a', 'b', 'c', 'd']\n",
    "access_second = lis[1]\n",
    "print(access_second)"
   ]
  },
  {
   "cell_type": "code",
   "execution_count": 31,
   "id": "8cada5f0-954b-4c3a-94d1-c4d6971d6a52",
   "metadata": {},
   "outputs": [
    {
     "name": "stdout",
     "output_type": "stream",
     "text": [
      "[50, 40, 30, 20, 10]\n"
     ]
    }
   ],
   "source": [
    "#Q.10) Write a code to reverse the list [10, 20, 30, 40, 50].\n",
    "lis = [10, 20, 30, 40, 50]\n",
    "reversed_lis = []\n",
    "for i in lis:\n",
    "    reversed_lis = [i] + reversed_lis\n",
    "print(reversed_lis)\n"
   ]
  },
  {
   "cell_type": "code",
   "execution_count": 35,
   "id": "68a15115-95cf-4023-aba3-af710a1636d9",
   "metadata": {},
   "outputs": [
    {
     "name": "stdout",
     "output_type": "stream",
     "text": [
      "(100, 200, 300)\n"
     ]
    }
   ],
   "source": [
    "#Q.11)  Write a code to create a tuple with the elements 100, 200, 300 and print it.\n",
    "tup = (100,200,300)\n",
    "print(tup)"
   ]
  },
  {
   "cell_type": "code",
   "execution_count": 38,
   "id": "799e300e-0f6b-45f1-9296-1d49ff31139a",
   "metadata": {},
   "outputs": [
    {
     "name": "stdout",
     "output_type": "stream",
     "text": [
      "blue\n"
     ]
    }
   ],
   "source": [
    "#Q.12) Write a code to access the second-to-last element of the tuple ('red', 'green', 'blue', 'yellow').\n",
    "tup = ('red', 'green', 'blue', 'yellow')\n",
    "access = tup[-2]\n",
    "print(access)"
   ]
  },
  {
   "cell_type": "code",
   "execution_count": 45,
   "id": "f268be53-9df9-48f7-8157-e97d3ea83d16",
   "metadata": {},
   "outputs": [
    {
     "name": "stdout",
     "output_type": "stream",
     "text": [
      "5\n"
     ]
    }
   ],
   "source": [
    "#Q.13)  Write a code to find the minimum number in the tuple (10, 20, 5, 15).\n",
    "tup = (10, 20, 5, 15)\n",
    "min_tup = tup[0]\n",
    "for i in tup:\n",
    "    if i < min_tup:\n",
    "        min_tup = i\n",
    "print(min_tup)"
   ]
  },
  {
   "cell_type": "code",
   "execution_count": 51,
   "id": "bd2b9af5-17f6-4f5a-b5f8-fb7baa0a5a28",
   "metadata": {},
   "outputs": [
    {
     "name": "stdout",
     "output_type": "stream",
     "text": [
      "1\n"
     ]
    }
   ],
   "source": [
    "#Q.14)  Write a code to find the index of the element \"cat\" in the tuple ('dog', 'cat', 'rabbit').\n",
    "tup = ('dog', 'cat', 'rabbit')\n",
    "index_of_cat = tup.index('cat')\n",
    "print(index_of_cat)"
   ]
  },
  {
   "cell_type": "code",
   "execution_count": 52,
   "id": "0a306d82-b98b-4293-995f-c536ab1addae",
   "metadata": {},
   "outputs": [
    {
     "name": "stdout",
     "output_type": "stream",
     "text": [
      "Kiwi is not in the tuple.\n"
     ]
    }
   ],
   "source": [
    "#Q.15)Write a code to create a tuple containing three different fruits and check if \"kiwi\" is in it.\n",
    "fruits = ('apple', 'banana', 'orange')\n",
    "if 'kiwi' in fruits:\n",
    "    print(\"Kiwi is in the tuple.\")\n",
    "else:\n",
    "    print(\"Kiwi is not in the tuple.\")"
   ]
  },
  {
   "cell_type": "code",
   "execution_count": 56,
   "id": "f60ac670-3208-43ad-97dd-f105044be18e",
   "metadata": {},
   "outputs": [
    {
     "name": "stdout",
     "output_type": "stream",
     "text": [
      "{'b', 'c', 'a'}\n"
     ]
    }
   ],
   "source": [
    "#Q.16)  Write a code to create a set with the elements 'a', 'b', 'c' and print it.\n",
    "set_of_elements = {'a','b','c'}\n",
    "print(set_of_elements)"
   ]
  },
  {
   "cell_type": "code",
   "execution_count": 2,
   "id": "b91aeacd-0050-4ad5-ad2a-af3297d00f85",
   "metadata": {},
   "outputs": [
    {
     "name": "stdout",
     "output_type": "stream",
     "text": [
      "set()\n"
     ]
    }
   ],
   "source": [
    "#Q.17)  Write a code to clear all elements from the set {1, 2, 3, 4, 5}.\n",
    "s = {1, 2, 3, 4, 5}\n",
    "s.clear()\n",
    "print(s)"
   ]
  },
  {
   "cell_type": "code",
   "execution_count": 3,
   "id": "1adcc4a5-613d-45b5-a925-d139f6652f56",
   "metadata": {},
   "outputs": [
    {
     "name": "stdout",
     "output_type": "stream",
     "text": [
      "{1, 2, 3}\n"
     ]
    }
   ],
   "source": [
    "#Q.18)  Write a code to remove the element 4 from the set {1, 2, 3, 4}.\n",
    "s = {1, 2, 3, 4}\n",
    "s.remove(4)\n",
    "print(s)"
   ]
  },
  {
   "cell_type": "code",
   "execution_count": 4,
   "id": "95ea5215-b3cd-48a2-9036-34e827c37cf8",
   "metadata": {},
   "outputs": [
    {
     "name": "stdout",
     "output_type": "stream",
     "text": [
      "{1, 2, 3, 4, 5}\n"
     ]
    }
   ],
   "source": [
    "#Q.19) Write a code to find the union of two sets {1, 2, 3} and {3, 4, 5}.\n",
    "s = {1, 2, 3}\n",
    "l = {3, 4, 5}\n",
    "union_set = s.union(l)\n",
    "print(union_set)"
   ]
  },
  {
   "cell_type": "code",
   "execution_count": 5,
   "id": "e1a6436b-a380-4f79-ae07-94c42c859b08",
   "metadata": {},
   "outputs": [
    {
     "name": "stdout",
     "output_type": "stream",
     "text": [
      "{2, 3}\n"
     ]
    }
   ],
   "source": [
    "#Q.20) Write a code to find the intersection of two sets {1, 2, 3} and {2, 3, 4}.\n",
    "s1 = {1,2,3}\n",
    "s2 = {2,3,4}\n",
    "intersection_set = s1.intersection(s2)\n",
    "print(intersection_set)"
   ]
  },
  {
   "cell_type": "code",
   "execution_count": 12,
   "id": "6722056d-7455-418d-934e-571b01313019",
   "metadata": {},
   "outputs": [
    {
     "name": "stdout",
     "output_type": "stream",
     "text": [
      "{'name': 'Prince Kumar', 'age': '25', 'city': 'Sitamadhi'}\n"
     ]
    }
   ],
   "source": [
    "#Q.21)  Write a code to create a dictionary with the keys \"name\", \"age\", and \"city\", and print it.\n",
    "Dic_key = {\n",
    "    \"name\":\"Prince Kumar\",\n",
    "    \"age\": \"25\",\n",
    "    \"city\":\"Sitamadhi\"\n",
    "}\n",
    "print(Dic_key)"
   ]
  },
  {
   "cell_type": "code",
   "execution_count": 13,
   "id": "6a1b4b84-a240-4232-8499-7cb06892bfb6",
   "metadata": {},
   "outputs": [
    {
     "name": "stdout",
     "output_type": "stream",
     "text": [
      "{'name': 'John', 'age': 25, 'country': 'USA'}\n"
     ]
    }
   ],
   "source": [
    "#Q.22)  Write a code to add a new key-value pair \"country\": \"USA\" to the dictionary {'name': 'John', 'age': 25}\n",
    "dic = {'name': 'John', 'age': 25}\n",
    "dic[\"country\"] = \"USA\"\n",
    "print(dic)"
   ]
  },
  {
   "cell_type": "code",
   "execution_count": 15,
   "id": "fc3b2805-15b7-41cf-8f38-84226bd1a65f",
   "metadata": {},
   "outputs": [
    {
     "name": "stdout",
     "output_type": "stream",
     "text": [
      "Alice\n"
     ]
    }
   ],
   "source": [
    "#Q.23)  Write a code to access the value associated with the key \"name\" in the dictionary {'name': 'Alice', 'age': 30}.\n",
    "dic = {'name': 'Alice', 'age': 30}\n",
    "print(dic[\"name\"])"
   ]
  },
  {
   "cell_type": "code",
   "execution_count": 18,
   "id": "4530eb36-0fc5-4a62-bf0f-56f357600b38",
   "metadata": {},
   "outputs": [
    {
     "name": "stdout",
     "output_type": "stream",
     "text": [
      "{'name': 'Bob', 'city': 'New York'}\n"
     ]
    }
   ],
   "source": [
    "#Q.24) Write a code to remove the key \"age\" from the dictionary {'name': 'Bob', 'age': 22, 'city': 'New York'}.\n",
    "dic = {'name': 'Bob', 'age': 22, 'city': 'New York'}\n",
    "del dic['age']\n",
    "print(dic)"
   ]
  },
  {
   "cell_type": "code",
   "execution_count": 21,
   "id": "92188cb7-4bf2-4e4a-9bc2-6db404a441c4",
   "metadata": {},
   "outputs": [
    {
     "name": "stdout",
     "output_type": "stream",
     "text": [
      "Yes the key 'city' is in dictionary\n"
     ]
    }
   ],
   "source": [
    "#Q.25)  Write a code to check if the key \"city\" exists in the dictionary {'name': 'Alice', 'city': 'Paris'}.\n",
    "dic = {'name': 'Alice', 'city': 'Paris'}\n",
    "if \"city\" in dic:\n",
    "    print(\"Yes the key 'city' is in dictionary\")\n",
    "else:\n",
    "    print(\"No the key 'city' is not in the dictionary\")    "
   ]
  },
  {
   "cell_type": "code",
   "execution_count": 24,
   "id": "ed1f10ac-605a-4952-9114-a2efe7420507",
   "metadata": {},
   "outputs": [
    {
     "name": "stdout",
     "output_type": "stream",
     "text": [
      "List: [10, 20, 30, 40]\n",
      "Tuple: ('apple', 'banana', 'cherry')\n",
      "Dictionary: {'name': 'Prince', 'age': 25, 'city': 'Sitamadhi'}\n"
     ]
    }
   ],
   "source": [
    "#Q.26) Write a code to create a list, a tuple, and a dictionary, and print them all.\n",
    "\n",
    "my_list = [10, 20, 30, 40]\n",
    "\n",
    "my_tuple = ('apple', 'banana', 'cherry')\n",
    "\n",
    "my_dict = {'name': 'Prince', 'age': 25, 'city': 'Sitamadhi'}\n",
    "\n",
    "\n",
    "print(\"List:\", my_list)\n",
    "print(\"Tuple:\", my_tuple)\n",
    "print(\"Dictionary:\", my_dict)"
   ]
  },
  {
   "cell_type": "code",
   "execution_count": 28,
   "id": "dcb3c04f-78e9-4b6d-b12e-9bbf5981b70f",
   "metadata": {},
   "outputs": [
    {
     "name": "stdout",
     "output_type": "stream",
     "text": [
      "Sorted random numbers: [4, 5, 43, 52, 70]\n"
     ]
    }
   ],
   "source": [
    "#Q.27)  Write a code to create a list of 5 random numbers between 1 and 100, sort it in ascending order, and print the result.(replaced).\n",
    "import random\n",
    "random_numbers = [random.randint(1, 100) for _ in range(5)]\n",
    "random_numbers.sort()\n",
    "print(\"Sorted random numbers:\", random_numbers)"
   ]
  },
  {
   "cell_type": "code",
   "execution_count": 29,
   "id": "345e4f05-21e3-4b00-9ea0-1378071dd0bf",
   "metadata": {},
   "outputs": [
    {
     "name": "stdout",
     "output_type": "stream",
     "text": [
      "Element at index 3: date\n"
     ]
    }
   ],
   "source": [
    "#Q.28) Write a code to create a list with strings and print the element at the third index.\n",
    "\n",
    "string_list = [\"apple\", \"banana\", \"cherry\", \"date\", \"elderberry\"]\n",
    "\n",
    "print(\"Element at index 3:\", string_list[3])\n"
   ]
  },
  {
   "cell_type": "code",
   "execution_count": 31,
   "id": "8c8f90b8-229b-418c-8474-9199aa089db7",
   "metadata": {},
   "outputs": [
    {
     "name": "stdout",
     "output_type": "stream",
     "text": [
      "Combined Dictionary: {'name': 'Prince', 'age': 25, 'city': 'Sitamadhi', 'hobby': 'Coding'}\n"
     ]
    }
   ],
   "source": [
    "#Q.29) Write a code to combine two dictionaries into one and print the result.\n",
    "dict1 = {'name': 'Prince', 'age': 25}\n",
    "dict2 = {'city': 'Sitamadhi', 'hobby': \"Coding\"}  # 'age' key is also here\n",
    "\n",
    "dict1.update(dict2)  # Modifies dict1 in-place\n",
    "print(\"Combined Dictionary:\", dict1)\n"
   ]
  },
  {
   "cell_type": "code",
   "execution_count": 32,
   "id": "56e711cc-d107-4e8d-9f0f-5a6d3e3d1b75",
   "metadata": {},
   "outputs": [
    {
     "name": "stdout",
     "output_type": "stream",
     "text": [
      "Set: {'banana', 'cherry', 'apple'}\n"
     ]
    }
   ],
   "source": [
    "#Q.30) Write a code to convert a list of strings into a set.\n",
    "string_list = [\"apple\", \"banana\", \"cherry\", \"apple\", \"banana\"]\n",
    "\n",
    "string_set = set(string_list)\n",
    "\n",
    "print(\"Set:\", string_set)\n"
   ]
  },
  {
   "cell_type": "code",
   "execution_count": null,
   "id": "c81c62a5-13e5-4891-9c5d-64ca8495c94e",
   "metadata": {},
   "outputs": [],
   "source": []
  }
 ],
 "metadata": {
  "kernelspec": {
   "display_name": "Python 3 (ipykernel)",
   "language": "python",
   "name": "python3"
  },
  "language_info": {
   "codemirror_mode": {
    "name": "ipython",
    "version": 3
   },
   "file_extension": ".py",
   "mimetype": "text/x-python",
   "name": "python",
   "nbconvert_exporter": "python",
   "pygments_lexer": "ipython3",
   "version": "3.12.7"
  }
 },
 "nbformat": 4,
 "nbformat_minor": 5
}
